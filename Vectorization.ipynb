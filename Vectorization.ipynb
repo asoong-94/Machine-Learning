{
 "cells": [
  {
   "cell_type": "code",
   "execution_count": 1,
   "metadata": {},
   "outputs": [
    {
     "name": "stdout",
     "output_type": "stream",
     "text": [
      "[1 2 3 4]\n"
     ]
    }
   ],
   "source": [
    "import numpy as np \n",
    "\n",
    "a = np.array([1,2,3,4])\n",
    "print(a)"
   ]
  },
  {
   "cell_type": "code",
   "execution_count": 2,
   "metadata": {},
   "outputs": [
    {
     "name": "stdout",
     "output_type": "stream",
     "text": [
      "250138.749977\n",
      "Vectorized time: 124.69196319580078ms\n",
      "250138.749977\n",
      "Non-Vectorized time: 546.6201305389404ms\n"
     ]
    }
   ],
   "source": [
    "# trying to demonstrate that vectorized operations in numpy are MUCH \n",
    "# Faster than if you were to do a simple for loop \n",
    "# for optimizing the training time of your network\n",
    "import time \n",
    "\n",
    "a = np.random.rand(1000000)\n",
    "b = np.random.rand(1000000)\n",
    "\n",
    "tic = time.time()\n",
    "c = np.dot(a, b)\n",
    "toc = time.time()\n",
    "\n",
    "print(c)\n",
    "print(\"Vectorized time: \" + str(1000*(toc-tic)) + \"ms\")\n",
    "\n",
    "d = 0\n",
    "tic = time.time()\n",
    "for i in range(1000000):\n",
    "    d += a[i]*b[i]\n",
    "    \n",
    "toc = time.time()\n",
    "\n",
    "print(d)\n",
    "print(\"Non-Vectorized time: \" + str(1000*(toc-tic)) + \"ms\")"
   ]
  },
  {
   "cell_type": "code",
   "execution_count": 5,
   "metadata": {},
   "outputs": [
    {
     "name": "stdout",
     "output_type": "stream",
     "text": [
      "Non-Vectorized time: 3941.3750171661377ms\n"
     ]
    }
   ],
   "source": [
    "A = np.random.rand(1000,1000)\n",
    "v = np.random.rand(1000)\n",
    "\n",
    "tic = time.time()\n",
    "u1 = np.zeros((1000,1))\n",
    "u2 = np.zeros((1000,1))\n",
    "\n",
    "for i in range(len(A)):\n",
    "    for j in range(len(A[0])):\n",
    "        u1[i] += A[i][j] * u[j]\n",
    "    \n",
    "toc = time.time()\n",
    "print(\"Non-Vectorized time: \" + str(1000*(toc-tic)) + \"ms\")\n",
    "\n",
    "\n"
   ]
  },
  {
   "cell_type": "code",
   "execution_count": null,
   "metadata": {
    "collapsed": true
   },
   "outputs": [],
   "source": []
  },
  {
   "cell_type": "code",
   "execution_count": null,
   "metadata": {
    "collapsed": true
   },
   "outputs": [],
   "source": []
  }
 ],
 "metadata": {
  "kernelspec": {
   "display_name": "Python 3",
   "language": "python",
   "name": "python3"
  },
  "language_info": {
   "codemirror_mode": {
    "name": "ipython",
    "version": 3
   },
   "file_extension": ".py",
   "mimetype": "text/x-python",
   "name": "python",
   "nbconvert_exporter": "python",
   "pygments_lexer": "ipython3",
   "version": "3.6.3"
  }
 },
 "nbformat": 4,
 "nbformat_minor": 2
}
